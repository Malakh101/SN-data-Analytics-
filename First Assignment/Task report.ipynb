{
 "cells": [
  {
   "cell_type": "code",
   "execution_count": null,
   "metadata": {},
   "outputs": [],
   "source": [
    "Tasks \n",
    " (Creating a repository)\n",
    "- First, i created an account with github by signing up, then i created the repository and named it,\n",
    "SN data Analytics\n",
    "\n",
    "(Creating the folder)\n",
    "- Creating the folder was a bit tough, i googled the steps online and followed what i saw.\n",
    "- I first created a file, named it and added the forward slash(/) sign, then committed the file.\n",
    "- So, the folder was created.\n",
    "\n",
    "- Next, i stated the steps out in a jupyter notebook, and pushed it into the repository."
   ]
  }
 ],
 "metadata": {
  "kernelspec": {
   "display_name": "Python 3",
   "language": "python",
   "name": "python3"
  },
  "language_info": {
   "codemirror_mode": {
    "name": "ipython",
    "version": 3
   },
   "file_extension": ".py",
   "mimetype": "text/x-python",
   "name": "python",
   "nbconvert_exporter": "python",
   "pygments_lexer": "ipython3",
   "version": "3.7.4"
  }
 },
 "nbformat": 4,
 "nbformat_minor": 2
}
